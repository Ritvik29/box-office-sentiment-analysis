{
 "cells": [
  {
   "cell_type": "code",
   "execution_count": 1,
   "metadata": {
    "_cell_guid": "b1076dfc-b9ad-4769-8c92-a6c4dae69d19",
    "_uuid": "8f2839f25d086af736a60e9eeb907d3b93b6e0e5",
    "execution": {
     "iopub.execute_input": "2020-10-05T08:26:12.377655Z",
     "iopub.status.busy": "2020-10-05T08:26:12.376942Z",
     "iopub.status.idle": "2020-10-05T08:26:12.384322Z",
     "shell.execute_reply": "2020-10-05T08:26:12.383468Z"
    },
    "papermill": {
     "duration": 0.040673,
     "end_time": "2020-10-05T08:26:12.384442",
     "exception": false,
     "start_time": "2020-10-05T08:26:12.343769",
     "status": "completed"
    },
    "tags": []
   },
   "outputs": [
    {
     "name": "stdout",
     "output_type": "stream",
     "text": [
      "/kaggle/input/boxoffice/Recruitment x Box Office x Q1 2019.xlsx\n",
      "/kaggle/input/boxoffice/Recruitment x Box Office x Q1 2019 - Titles Performace.csv\n",
      "/kaggle/input/boxoffice/Recruitment x Box Office x Q1 2019 - Twitter.csv\n"
     ]
    }
   ],
   "source": [
    "# This Python 3 environment comes with many helpful analytics libraries installed\n",
    "# It is defined by the kaggle/python Docker image: https://github.com/kaggle/docker-python\n",
    "# For example, here's several helpful packages to load\n",
    "\n",
    "import numpy as np # linear algebra\n",
    "import pandas as pd # data processing, CSV file I/O (e.g. pd.read_csv)\n",
    "\n",
    "# Input data files are available in the read-only \"../input/\" directory\n",
    "# For example, running this (by clicking run or pressing Shift+Enter) will list all files under the input directory\n",
    "\n",
    "import os\n",
    "for dirname, _, filenames in os.walk('/kaggle/input'):\n",
    "    for filename in filenames:\n",
    "        print(os.path.join(dirname, filename))\n",
    "\n",
    "# You can write up to 5GB to the current directory (/kaggle/working/) that gets preserved as output when you create a version using \"Save & Run All\" \n",
    "# You can also write temporary files to /kaggle/temp/, but they won't be saved outside of the current session"
   ]
  },
  {
   "cell_type": "code",
   "execution_count": 2,
   "metadata": {
    "_cell_guid": "79c7e3d0-c299-4dcb-8224-4455121ee9b0",
    "_uuid": "d629ff2d2480ee46fbb7e2d37f6b5fab8052498a",
    "execution": {
     "iopub.execute_input": "2020-10-05T08:26:12.439894Z",
     "iopub.status.busy": "2020-10-05T08:26:12.439197Z",
     "iopub.status.idle": "2020-10-05T08:26:16.480257Z",
     "shell.execute_reply": "2020-10-05T08:26:16.479693Z"
    },
    "papermill": {
     "duration": 4.070231,
     "end_time": "2020-10-05T08:26:16.480382",
     "exception": false,
     "start_time": "2020-10-05T08:26:12.410151",
     "status": "completed"
    },
    "tags": []
   },
   "outputs": [],
   "source": [
    "import pandas as pd\n",
    "import numpy as np\n",
    "from textblob import TextBlob\n",
    "from datetime import datetime\n",
    "import statsmodels.api as sm\n",
    "import matplotlib.pyplot as plt\n",
    "\n",
    "\n",
    "titles = pd.read_csv('../input/boxoffice/Recruitment x Box Office x Q1 2019 - Titles Performace.csv',delimiter = '\\t')\n",
    "twitter = pd.read_csv('../input/boxoffice/Recruitment x Box Office x Q1 2019 - Twitter.csv',delimiter = '\\t')\n",
    "Recruitment = pd.read_excel('../input/boxoffice/Recruitment x Box Office x Q1 2019.xlsx')"
   ]
  },
  {
   "cell_type": "markdown",
   "metadata": {
    "papermill": {
     "duration": 0.026804,
     "end_time": "2020-10-05T08:26:16.533578",
     "exception": false,
     "start_time": "2020-10-05T08:26:16.506774",
     "status": "completed"
    },
    "tags": []
   },
   "source": [
    "# Clean Twitter Data"
   ]
  },
  {
   "cell_type": "code",
   "execution_count": 3,
   "metadata": {
    "execution": {
     "iopub.execute_input": "2020-10-05T08:26:16.608102Z",
     "iopub.status.busy": "2020-10-05T08:26:16.601693Z",
     "iopub.status.idle": "2020-10-05T08:27:15.083772Z",
     "shell.execute_reply": "2020-10-05T08:27:15.083215Z"
    },
    "papermill": {
     "duration": 58.523055,
     "end_time": "2020-10-05T08:27:15.083884",
     "exception": false,
     "start_time": "2020-10-05T08:26:16.560829",
     "status": "completed"
    },
    "tags": []
   },
   "outputs": [
    {
     "name": "stderr",
     "output_type": "stream",
     "text": [
      "/opt/conda/lib/python3.7/site-packages/ipykernel_launcher.py:2: SettingWithCopyWarning: \n",
      "A value is trying to be set on a copy of a slice from a DataFrame.\n",
      "Try using .loc[row_indexer,col_indexer] = value instead\n",
      "\n",
      "See the caveats in the documentation: https://pandas.pydata.org/pandas-docs/stable/user_guide/indexing.html#returning-a-view-versus-a-copy\n",
      "  \n",
      "/opt/conda/lib/python3.7/site-packages/ipykernel_launcher.py:3: SettingWithCopyWarning: \n",
      "A value is trying to be set on a copy of a slice from a DataFrame.\n",
      "Try using .loc[row_indexer,col_indexer] = value instead\n",
      "\n",
      "See the caveats in the documentation: https://pandas.pydata.org/pandas-docs/stable/user_guide/indexing.html#returning-a-view-versus-a-copy\n",
      "  This is separate from the ipykernel package so we can avoid doing imports until\n",
      "/opt/conda/lib/python3.7/site-packages/ipykernel_launcher.py:4: SettingWithCopyWarning: \n",
      "A value is trying to be set on a copy of a slice from a DataFrame.\n",
      "Try using .loc[row_indexer,col_indexer] = value instead\n",
      "\n",
      "See the caveats in the documentation: https://pandas.pydata.org/pandas-docs/stable/user_guide/indexing.html#returning-a-view-versus-a-copy\n",
      "  after removing the cwd from sys.path.\n",
      "/opt/conda/lib/python3.7/site-packages/ipykernel_launcher.py:8: SettingWithCopyWarning: \n",
      "A value is trying to be set on a copy of a slice from a DataFrame.\n",
      "Try using .loc[row_indexer,col_indexer] = value instead\n",
      "\n",
      "See the caveats in the documentation: https://pandas.pydata.org/pandas-docs/stable/user_guide/indexing.html#returning-a-view-versus-a-copy\n",
      "  \n"
     ]
    }
   ],
   "source": [
    "\n",
    "\n",
    "tw_clean = twitter[['title','post_content','user_followers_count','user_followee_count','user_post_count','post_date_time']]\n",
    "tw_clean['post_content_blob'] = tw_clean['post_content'].apply(lambda x: TextBlob(x))\n",
    "tw_clean['post_content_sentiment'] = tw_clean['post_content_blob'].apply(lambda x: x.polarity)\n",
    "tw_clean['post_content_subjectivity']  = tw_clean['post_content_blob'].apply(lambda x: x.subjectivity)\n",
    "\n",
    "#----------------------------------------------#\n",
    "tw4 = tw_clean[['title','post_date_time','user_followers_count','user_followee_count','user_post_count','post_content_sentiment']]\n",
    "tw4['post_date'] = tw4['post_date_time'].apply(lambda x:datetime.strptime(x[0:10],'%Y-%m-%d'))\n",
    "tw4 = tw4[['title','post_date','user_followers_count','user_followee_count','user_post_count','post_content_sentiment']]"
   ]
  },
  {
   "cell_type": "markdown",
   "metadata": {
    "papermill": {
     "duration": 0.026647,
     "end_time": "2020-10-05T08:27:15.137782",
     "exception": false,
     "start_time": "2020-10-05T08:27:15.111135",
     "status": "completed"
    },
    "tags": []
   },
   "source": [
    "**The Feature Sum of Squared Sentiment, is computed for each Title, year and week**"
   ]
  },
  {
   "cell_type": "code",
   "execution_count": 4,
   "metadata": {
    "execution": {
     "iopub.execute_input": "2020-10-05T08:27:15.211883Z",
     "iopub.status.busy": "2020-10-05T08:27:15.201522Z",
     "iopub.status.idle": "2020-10-05T08:27:16.690537Z",
     "shell.execute_reply": "2020-10-05T08:27:16.690991Z"
    },
    "papermill": {
     "duration": 1.525425,
     "end_time": "2020-10-05T08:27:16.691128",
     "exception": false,
     "start_time": "2020-10-05T08:27:15.165703",
     "status": "completed"
    },
    "tags": []
   },
   "outputs": [
    {
     "data": {
      "text/plain": [
       "25"
      ]
     },
     "execution_count": 4,
     "metadata": {},
     "output_type": "execute_result"
    }
   ],
   "source": [
    "tw4['week']  = tw4['post_date'].apply(lambda x:int(x.strftime(\"%V\")))\n",
    "tw4['year']  = tw4['post_date'].apply(lambda x:x.year)\n",
    "\n",
    "tw4[\"post_content_sentiment2\"]  = tw4[\"post_content_sentiment\"]*tw4[\"post_content_sentiment\"]\n",
    "tw4[\"idx\"]  = range(tw4.shape[0])\n",
    "tw_agg = tw4.groupby([\"title\",\"year\",\"week\"]).agg({\"post_content_sentiment2\":\"sum\",\"idx\":\"count\"})\n",
    "tw_agg.rename({\"idx\":\"tweet_count\"},inplace = True, axis =1)\n",
    "len(tw_agg.reset_index()['title'].unique())"
   ]
  },
  {
   "cell_type": "markdown",
   "metadata": {
    "papermill": {
     "duration": 0.027313,
     "end_time": "2020-10-05T08:27:16.745780",
     "exception": false,
     "start_time": "2020-10-05T08:27:16.718467",
     "status": "completed"
    },
    "tags": []
   },
   "source": [
    "# Clean Recruitment Data"
   ]
  },
  {
   "cell_type": "code",
   "execution_count": 5,
   "metadata": {
    "execution": {
     "iopub.execute_input": "2020-10-05T08:27:16.828474Z",
     "iopub.status.busy": "2020-10-05T08:27:16.819177Z",
     "iopub.status.idle": "2020-10-05T08:27:16.830840Z",
     "shell.execute_reply": "2020-10-05T08:27:16.831385Z"
    },
    "papermill": {
     "duration": 0.058826,
     "end_time": "2020-10-05T08:27:16.831525",
     "exception": false,
     "start_time": "2020-10-05T08:27:16.772699",
     "status": "completed"
    },
    "tags": []
   },
   "outputs": [],
   "source": [
    "Recruitment['Weekend Gross']  = Recruitment['Weekend Gross'].replace('[\\$,]', '', regex=True).apply(lambda x: x.replace('AU',''))\n",
    "Recruitment['Weekend Gross']   = Recruitment['Weekend Gross'].astype(float)\n",
    "\n",
    "Recruitment.rename({\"This Week's Rank\":\"this_weeks_rank\",\n",
    "                    \"Last Week's Rank\":\"last_weeks_rank\",\n",
    "                   \"Title\":\"title\",\n",
    "                   \"Studio\":\"studio\",\n",
    "                   \"Weekend Gross\":\"weekend_gross\",\n",
    "                   \"Weeks Into Release\":\"weeks_into_release\",\n",
    "                   \"Year\":\"year\",\n",
    "                   \"Week\":\"week\",\n",
    "                   \"Select_Studios\":\"select_studios\"},axis = 1, inplace = True)"
   ]
  },
  {
   "cell_type": "code",
   "execution_count": 6,
   "metadata": {
    "execution": {
     "iopub.execute_input": "2020-10-05T08:27:16.891598Z",
     "iopub.status.busy": "2020-10-05T08:27:16.890612Z",
     "iopub.status.idle": "2020-10-05T08:27:16.902848Z",
     "shell.execute_reply": "2020-10-05T08:27:16.902339Z"
    },
    "papermill": {
     "duration": 0.043476,
     "end_time": "2020-10-05T08:27:16.903018",
     "exception": false,
     "start_time": "2020-10-05T08:27:16.859542",
     "status": "completed"
    },
    "tags": []
   },
   "outputs": [
    {
     "name": "stderr",
     "output_type": "stream",
     "text": [
      "/opt/conda/lib/python3.7/site-packages/pandas/core/series.py:726: RuntimeWarning: divide by zero encountered in log\n",
      "  result = getattr(ufunc, method)(*inputs, **kwargs)\n"
     ]
    }
   ],
   "source": [
    "Recruitment[\"log_weekend_gross\"] = np.where(Recruitment[\"weekend_gross\"]==0.0,0.1,np.log(Recruitment[\"weekend_gross\"]))\n"
   ]
  },
  {
   "cell_type": "code",
   "execution_count": 7,
   "metadata": {
    "execution": {
     "iopub.execute_input": "2020-10-05T08:27:16.968621Z",
     "iopub.status.busy": "2020-10-05T08:27:16.967867Z",
     "iopub.status.idle": "2020-10-05T08:27:16.977376Z",
     "shell.execute_reply": "2020-10-05T08:27:16.977874Z"
    },
    "papermill": {
     "duration": 0.045807,
     "end_time": "2020-10-05T08:27:16.978021",
     "exception": false,
     "start_time": "2020-10-05T08:27:16.932214",
     "status": "completed"
    },
    "tags": []
   },
   "outputs": [],
   "source": [
    "re_tw = Recruitment.merge(tw_agg, on = ['title','week','year'],how = 'inner')\n",
    "re_tw[\"log_post_content_sentiment\"] = np.log(re_tw[\"post_content_sentiment2\"])\n",
    "re_tw.rename({'log_post_content_sentiment':'log_sentiment'},axis = 1,inplace = True)"
   ]
  },
  {
   "cell_type": "code",
   "execution_count": 8,
   "metadata": {
    "execution": {
     "iopub.execute_input": "2020-10-05T08:27:17.041043Z",
     "iopub.status.busy": "2020-10-05T08:27:17.040344Z",
     "iopub.status.idle": "2020-10-05T08:27:17.042255Z",
     "shell.execute_reply": "2020-10-05T08:27:17.042773Z"
    },
    "papermill": {
     "duration": 0.036565,
     "end_time": "2020-10-05T08:27:17.042907",
     "exception": false,
     "start_time": "2020-10-05T08:27:17.006342",
     "status": "completed"
    },
    "tags": []
   },
   "outputs": [],
   "source": [
    "re_tw[\"weeks_into_release\"] = np.where(re_tw[\"weeks_into_release\"]==\"-\",0.,re_tw[\"weeks_into_release\"])\n",
    "re_tw[\"weeks_into_release\"] =re_tw[\"weeks_into_release\"].astype(float)"
   ]
  },
  {
   "cell_type": "markdown",
   "metadata": {
    "papermill": {
     "duration": 0.028159,
     "end_time": "2020-10-05T08:27:17.099504",
     "exception": false,
     "start_time": "2020-10-05T08:27:17.071345",
     "status": "completed"
    },
    "tags": []
   },
   "source": [
    "# Correlation Analysis between log weekend gross sales and log sentiment"
   ]
  },
  {
   "cell_type": "markdown",
   "metadata": {
    "papermill": {
     "duration": 0.02797,
     "end_time": "2020-10-05T08:27:17.156008",
     "exception": false,
     "start_time": "2020-10-05T08:27:17.128038",
     "status": "completed"
    },
    "tags": []
   },
   "source": [
    "Visualizing the trend between week_into_release, log sentiment and log_weekend_gross for three movies: Black Panther, Dunkirk and Star Wars: The Last Jedi. \n",
    "we see that both log_weekend_gross and log_sentiment decrease with increase in week of release. Both of them are strongly correlated with week of release"
   ]
  },
  {
   "cell_type": "code",
   "execution_count": 9,
   "metadata": {
    "execution": {
     "iopub.execute_input": "2020-10-05T08:27:17.216353Z",
     "iopub.status.busy": "2020-10-05T08:27:17.215719Z",
     "iopub.status.idle": "2020-10-05T08:27:17.533415Z",
     "shell.execute_reply": "2020-10-05T08:27:17.533907Z"
    },
    "papermill": {
     "duration": 0.349178,
     "end_time": "2020-10-05T08:27:17.534061",
     "exception": false,
     "start_time": "2020-10-05T08:27:17.184883",
     "status": "completed"
    },
    "tags": []
   },
   "outputs": [
    {
     "data": {
      "text/plain": [
       "Text(0, 0.5, 'log_weekend_sales')"
      ]
     },
     "execution_count": 9,
     "metadata": {},
     "output_type": "execute_result"
    },
    {
     "data": {
      "image/png": "[encoded data removed]",
      "text/plain": [
       "<Figure size 1080x504 with 1 Axes>"
      ]
     },
     "metadata": {
      "needs_background": "light"
     },
     "output_type": "display_data"
    }
   ],
   "source": [
    "\n",
    "fig, ax =plt.subplots(figsize=(15,7))\n",
    "black_panther = re_tw.loc[re_tw[\"title\"]==\"Black Panther\"]\n",
    "star_wars = re_tw.loc[re_tw[\"title\"]==\"Star Wars: The Last Jedi\"]\n",
    "Dunkirk = re_tw.loc[re_tw[\"title\"]==\"Dunkirk\"]\n",
    "df_C = pd.concat([black_panther,star_wars,Dunkirk])\n",
    "df_C.set_index(\"weeks_into_release\")\n",
    "df_C.groupby(['weeks_into_release','title']).mean()[['log_weekend_gross','log_sentiment']].unstack().plot(ax=ax)\n",
    "plt.ylabel(\"log_weekend_sales\")"
   ]
  },
  {
   "cell_type": "code",
   "execution_count": 10,
   "metadata": {
    "execution": {
     "iopub.execute_input": "2020-10-05T08:27:17.599455Z",
     "iopub.status.busy": "2020-10-05T08:27:17.598807Z",
     "iopub.status.idle": "2020-10-05T08:27:17.617900Z",
     "shell.execute_reply": "2020-10-05T08:27:17.618407Z"
    },
    "papermill": {
     "duration": 0.053334,
     "end_time": "2020-10-05T08:27:17.618548",
     "exception": false,
     "start_time": "2020-10-05T08:27:17.565214",
     "status": "completed"
    },
    "tags": []
   },
   "outputs": [
    {
     "data": {
      "text/html": [
       "<div>\n",
       "<style scoped>\n",
       "    .dataframe tbody tr th:only-of-type {\n",
       "        vertical-align: middle;\n",
       "    }\n",
       "\n",
       "    .dataframe tbody tr th {\n",
       "        vertical-align: top;\n",
       "    }\n",
       "\n",
       "    .dataframe thead th {\n",
       "        text-align: right;\n",
       "    }\n",
       "</style>\n",
       "<table border=\"1\" class=\"dataframe\">\n",
       "  <thead>\n",
       "    <tr style=\"text-align: right;\">\n",
       "      <th></th>\n",
       "      <th>weeks_into_release</th>\n",
       "      <th>log_sentiment</th>\n",
       "      <th>tweet_count</th>\n",
       "      <th>log_weekend_gross</th>\n",
       "    </tr>\n",
       "  </thead>\n",
       "  <tbody>\n",
       "    <tr>\n",
       "      <th>weeks_into_release</th>\n",
       "      <td>1.000000</td>\n",
       "      <td>-0.477334</td>\n",
       "      <td>-0.410144</td>\n",
       "      <td>-0.565084</td>\n",
       "    </tr>\n",
       "    <tr>\n",
       "      <th>log_sentiment</th>\n",
       "      <td>-0.477334</td>\n",
       "      <td>1.000000</td>\n",
       "      <td>0.562468</td>\n",
       "      <td>0.711906</td>\n",
       "    </tr>\n",
       "    <tr>\n",
       "      <th>tweet_count</th>\n",
       "      <td>-0.410144</td>\n",
       "      <td>0.562468</td>\n",
       "      <td>1.000000</td>\n",
       "      <td>0.359709</td>\n",
       "    </tr>\n",
       "    <tr>\n",
       "      <th>log_weekend_gross</th>\n",
       "      <td>-0.565084</td>\n",
       "      <td>0.711906</td>\n",
       "      <td>0.359709</td>\n",
       "      <td>1.000000</td>\n",
       "    </tr>\n",
       "  </tbody>\n",
       "</table>\n",
       "</div>"
      ],
      "text/plain": [
       "                    weeks_into_release  log_sentiment  tweet_count  \\\n",
       "weeks_into_release            1.000000      -0.477334    -0.410144   \n",
       "log_sentiment                -0.477334       1.000000     0.562468   \n",
       "tweet_count                  -0.410144       0.562468     1.000000   \n",
       "log_weekend_gross            -0.565084       0.711906     0.359709   \n",
       "\n",
       "                    log_weekend_gross  \n",
       "weeks_into_release          -0.565084  \n",
       "log_sentiment                0.711906  \n",
       "tweet_count                  0.359709  \n",
       "log_weekend_gross            1.000000  "
      ]
     },
     "execution_count": 10,
     "metadata": {},
     "output_type": "execute_result"
    }
   ],
   "source": [
    "cols = ['this_weeks_rank',\n",
    " 'last_weeks_rank',\n",
    " 'weeks_into_release',\n",
    " 'log_sentiment',\n",
    " 'tweet_count',\n",
    " 'log_weekend_gross']\n",
    "\n",
    "re_tw2 = re_tw[cols]\n",
    "\n",
    "re_tw2.corr()"
   ]
  },
  {
   "cell_type": "markdown",
   "metadata": {
    "papermill": {
     "duration": 0.03169,
     "end_time": "2020-10-05T08:27:17.682052",
     "exception": false,
     "start_time": "2020-10-05T08:27:17.650362",
     "status": "completed"
    },
    "tags": []
   },
   "source": [
    "# Perform Linear Regression to identify significance of Sentiment and week of Release"
   ]
  },
  {
   "cell_type": "markdown",
   "metadata": {
    "papermill": {
     "duration": 0.03191,
     "end_time": "2020-10-05T08:27:17.745696",
     "exception": false,
     "start_time": "2020-10-05T08:27:17.713786",
     "status": "completed"
    },
    "tags": []
   },
   "source": [
    "**When log_weekend_gross ~ week_into_release + log_sentiment\n",
    "\n",
    "\n",
    "We see that the p values for log sentiment for all movies are not significant. This shows that the correlation seen with log_weekend_gross and log_sentiment is spurious (erroneus) and is due to the fact that both these variables vary linearly with time."
   ]
  },
  {
   "cell_type": "code",
   "execution_count": 11,
   "metadata": {
    "execution": {
     "iopub.execute_input": "2020-10-05T08:27:17.824764Z",
     "iopub.status.busy": "2020-10-05T08:27:17.823791Z",
     "iopub.status.idle": "2020-10-05T08:27:17.949038Z",
     "shell.execute_reply": "2020-10-05T08:27:17.947458Z"
    },
    "papermill": {
     "duration": 0.170905,
     "end_time": "2020-10-05T08:27:17.949200",
     "exception": false,
     "start_time": "2020-10-05T08:27:17.778295",
     "status": "completed"
    },
    "tags": []
   },
   "outputs": [
    {
     "name": "stderr",
     "output_type": "stream",
     "text": [
      "/opt/conda/lib/python3.7/site-packages/statsmodels/regression/linear_model.py:1620: RuntimeWarning: divide by zero encountered in double_scalars\n",
      "  return np.dot(wresid, wresid) / self.df_resid\n",
      "/opt/conda/lib/python3.7/site-packages/statsmodels/regression/linear_model.py:1620: RuntimeWarning: divide by zero encountered in double_scalars\n",
      "  return np.dot(wresid, wresid) / self.df_resid\n"
     ]
    }
   ],
   "source": [
    "\n",
    "corr_s = {}\n",
    "corr_t = {}\n",
    "corr_w = {}\n",
    "coef_sent = {}\n",
    "pval_sent = {}\n",
    "coef_week = {}\n",
    "pval_week = {}\n",
    "\n",
    "for i in re_tw.title.unique():\n",
    "    title_df = re_tw[re_tw['title']==i][cols]\n",
    "    corr_sentiment = title_df.corr().iloc[1,3]\n",
    "    corr_count = title_df.corr().iloc[2,3]\n",
    "    corr_week = title_df.corr().iloc[0,3]\n",
    "    corr_s[i] = corr_sentiment\n",
    "    corr_t[i] = corr_count\n",
    "    corr_w[i] = corr_week\n",
    "    X = title_df[['weeks_into_release','log_sentiment']]\n",
    "    Y = title_df['log_weekend_gross']\n",
    "    X = sm.add_constant(X)\n",
    "    model = sm.OLS(Y, X).fit()\n",
    "    #print(i,len(model.params))\n",
    "    coef_sent[i] = model.params['log_sentiment']\n",
    "    pval_sent[i] = model.pvalues['log_sentiment']\n",
    "    coef_week[i] = model.params['weeks_into_release']\n",
    "    pval_week[i] = model.pvalues['weeks_into_release']"
   ]
  },
  {
   "cell_type": "code",
   "execution_count": 12,
   "metadata": {
    "execution": {
     "iopub.execute_input": "2020-10-05T08:27:18.021103Z",
     "iopub.status.busy": "2020-10-05T08:27:18.020251Z",
     "iopub.status.idle": "2020-10-05T08:27:18.024334Z",
     "shell.execute_reply": "2020-10-05T08:27:18.024988Z"
    },
    "papermill": {
     "duration": 0.04256,
     "end_time": "2020-10-05T08:27:18.025125",
     "exception": false,
     "start_time": "2020-10-05T08:27:17.982565",
     "status": "completed"
    },
    "tags": []
   },
   "outputs": [
    {
     "data": {
      "text/plain": [
       "{'Star Wars: The Last Jedi': 0.36020440367565154,\n",
       " 'The Greatest Showman': 0.17649761073802278,\n",
       " 'Coco': 0.08073107803987206,\n",
       " 'Overlord': nan,\n",
       " 'Strange Colours': nan,\n",
       " 'The Meg': 0.14323987860235768,\n",
       " 'Incredibles 2': 0.2834179921072054,\n",
       " 'Black Panther': 0.07185537630760187,\n",
       " 'Dunkirk': 0.28861996145446567,\n",
       " 'Wonder Woman': 0.41306893195739713}"
      ]
     },
     "execution_count": 12,
     "metadata": {},
     "output_type": "execute_result"
    }
   ],
   "source": [
    "pval_sent"
   ]
  },
  {
   "cell_type": "code",
   "execution_count": 13,
   "metadata": {
    "execution": {
     "iopub.execute_input": "2020-10-05T08:27:18.097153Z",
     "iopub.status.busy": "2020-10-05T08:27:18.096123Z",
     "iopub.status.idle": "2020-10-05T08:27:18.102130Z",
     "shell.execute_reply": "2020-10-05T08:27:18.102728Z"
    },
    "papermill": {
     "duration": 0.042373,
     "end_time": "2020-10-05T08:27:18.102864",
     "exception": false,
     "start_time": "2020-10-05T08:27:18.060491",
     "status": "completed"
    },
    "tags": []
   },
   "outputs": [
    {
     "data": {
      "text/plain": [
       "{'Star Wars: The Last Jedi': 4.0213816618309146e-07,\n",
       " 'The Greatest Showman': 0.0026290995646676345,\n",
       " 'Coco': 0.0006829709497703358,\n",
       " 'Overlord': nan,\n",
       " 'Strange Colours': nan,\n",
       " 'The Meg': 0.03211926686656134,\n",
       " 'Incredibles 2': 7.169848624673953e-05,\n",
       " 'Black Panther': 1.332548708843341e-08,\n",
       " 'Dunkirk': 0.0050182371868473345,\n",
       " 'Wonder Woman': 0.002408630696985615}"
      ]
     },
     "execution_count": 13,
     "metadata": {},
     "output_type": "execute_result"
    }
   ],
   "source": [
    "pval_week"
   ]
  },
  {
   "cell_type": "markdown",
   "metadata": {
    "papermill": {
     "duration": 0.033177,
     "end_time": "2020-10-05T08:27:18.169175",
     "exception": false,
     "start_time": "2020-10-05T08:27:18.135998",
     "status": "completed"
    },
    "tags": []
   },
   "source": [
    "# Plot Correlation Charts"
   ]
  },
  {
   "cell_type": "markdown",
   "metadata": {
    "papermill": {
     "duration": 0.032503,
     "end_time": "2020-10-05T08:27:18.235378",
     "exception": false,
     "start_time": "2020-10-05T08:27:18.202875",
     "status": "completed"
    },
    "tags": []
   },
   "source": [
    " **Does the correlation vary across Movie Studios and movie genres?\n",
    " \n",
    " There is no evidence that there is any differential behaviour for correlation across different types of movies"
   ]
  },
  {
   "cell_type": "code",
   "execution_count": 14,
   "metadata": {
    "execution": {
     "iopub.execute_input": "2020-10-05T08:27:18.304555Z",
     "iopub.status.busy": "2020-10-05T08:27:18.303596Z",
     "iopub.status.idle": "2020-10-05T08:27:18.324969Z",
     "shell.execute_reply": "2020-10-05T08:27:18.324422Z"
    },
    "papermill": {
     "duration": 0.056697,
     "end_time": "2020-10-05T08:27:18.325078",
     "exception": false,
     "start_time": "2020-10-05T08:27:18.268381",
     "status": "completed"
    },
    "tags": []
   },
   "outputs": [],
   "source": [
    "corr_s2 =  pd.DataFrame.from_dict(corr_s,orient='index',columns=['corr'])\n",
    "corr_t2 =  pd.DataFrame.from_dict(corr_t,orient='index',columns = ['count'])\n",
    "corr_s2.reset_index(inplace = True)\n",
    "corr_t2.reset_index(inplace = True)\n",
    "\n",
    "re_tw2 = re_tw.merge(corr_s2,how = 'left',left_on = 'title',right_on='index')\n",
    "re_tw2 = re_tw2.merge(corr_t2,how = 'left',left_on = 'title',right_on='index')\n",
    "\n"
   ]
  },
  {
   "cell_type": "code",
   "execution_count": 15,
   "metadata": {
    "execution": {
     "iopub.execute_input": "2020-10-05T08:27:18.401420Z",
     "iopub.status.busy": "2020-10-05T08:27:18.400454Z",
     "iopub.status.idle": "2020-10-05T08:27:18.404613Z",
     "shell.execute_reply": "2020-10-05T08:27:18.405092Z"
    },
    "papermill": {
     "duration": 0.046969,
     "end_time": "2020-10-05T08:27:18.405227",
     "exception": false,
     "start_time": "2020-10-05T08:27:18.358258",
     "status": "completed"
    },
    "tags": []
   },
   "outputs": [
    {
     "data": {
      "text/html": [
       "<div>\n",
       "<style scoped>\n",
       "    .dataframe tbody tr th:only-of-type {\n",
       "        vertical-align: middle;\n",
       "    }\n",
       "\n",
       "    .dataframe tbody tr th {\n",
       "        vertical-align: top;\n",
       "    }\n",
       "\n",
       "    .dataframe thead th {\n",
       "        text-align: right;\n",
       "    }\n",
       "</style>\n",
       "<table border=\"1\" class=\"dataframe\">\n",
       "  <thead>\n",
       "    <tr style=\"text-align: right;\">\n",
       "      <th></th>\n",
       "      <th>index</th>\n",
       "      <th>corr</th>\n",
       "    </tr>\n",
       "  </thead>\n",
       "  <tbody>\n",
       "    <tr>\n",
       "      <th>0</th>\n",
       "      <td>Star Wars: The Last Jedi</td>\n",
       "      <td>0.745972</td>\n",
       "    </tr>\n",
       "    <tr>\n",
       "      <th>1</th>\n",
       "      <td>The Greatest Showman</td>\n",
       "      <td>0.973062</td>\n",
       "    </tr>\n",
       "    <tr>\n",
       "      <th>2</th>\n",
       "      <td>Coco</td>\n",
       "      <td>0.386649</td>\n",
       "    </tr>\n",
       "    <tr>\n",
       "      <th>3</th>\n",
       "      <td>Overlord</td>\n",
       "      <td>1.000000</td>\n",
       "    </tr>\n",
       "    <tr>\n",
       "      <th>4</th>\n",
       "      <td>Strange Colours</td>\n",
       "      <td>NaN</td>\n",
       "    </tr>\n",
       "    <tr>\n",
       "      <th>5</th>\n",
       "      <td>The Meg</td>\n",
       "      <td>0.781691</td>\n",
       "    </tr>\n",
       "    <tr>\n",
       "      <th>6</th>\n",
       "      <td>Incredibles 2</td>\n",
       "      <td>0.932551</td>\n",
       "    </tr>\n",
       "    <tr>\n",
       "      <th>7</th>\n",
       "      <td>Black Panther</td>\n",
       "      <td>0.824680</td>\n",
       "    </tr>\n",
       "    <tr>\n",
       "      <th>8</th>\n",
       "      <td>Dunkirk</td>\n",
       "      <td>0.954287</td>\n",
       "    </tr>\n",
       "    <tr>\n",
       "      <th>9</th>\n",
       "      <td>Wonder Woman</td>\n",
       "      <td>0.887504</td>\n",
       "    </tr>\n",
       "  </tbody>\n",
       "</table>\n",
       "</div>"
      ],
      "text/plain": [
       "                      index      corr\n",
       "0  Star Wars: The Last Jedi  0.745972\n",
       "1      The Greatest Showman  0.973062\n",
       "2                      Coco  0.386649\n",
       "3                  Overlord  1.000000\n",
       "4           Strange Colours       NaN\n",
       "5                   The Meg  0.781691\n",
       "6             Incredibles 2  0.932551\n",
       "7             Black Panther  0.824680\n",
       "8                   Dunkirk  0.954287\n",
       "9              Wonder Woman  0.887504"
      ]
     },
     "execution_count": 15,
     "metadata": {},
     "output_type": "execute_result"
    }
   ],
   "source": [
    "corr_s2"
   ]
  },
  {
   "cell_type": "code",
   "execution_count": 16,
   "metadata": {
    "execution": {
     "iopub.execute_input": "2020-10-05T08:27:18.490662Z",
     "iopub.status.busy": "2020-10-05T08:27:18.485451Z",
     "iopub.status.idle": "2020-10-05T08:27:18.684503Z",
     "shell.execute_reply": "2020-10-05T08:27:18.685026Z"
    },
    "papermill": {
     "duration": 0.246342,
     "end_time": "2020-10-05T08:27:18.685178",
     "exception": false,
     "start_time": "2020-10-05T08:27:18.438836",
     "status": "completed"
    },
    "tags": []
   },
   "outputs": [
    {
     "data": {
      "image/png": "[encoded data removed]",
      "text/plain": [
       "<Figure size 1080x504 with 1 Axes>"
      ]
     },
     "metadata": {
      "needs_background": "light"
     },
     "output_type": "display_data"
    }
   ],
   "source": [
    "import matplotlib.pyplot as plt\n",
    "re_tw3 = re_tw2[['title','studio','log_weekend_gross',\n",
    "                'log_sentiment','corr','count','year','week','weeks_into_release']]\n",
    "title_corr = re_tw3.groupby('title').agg({\"studio\":\"max\",\"corr\":\"mean\",\"count\":\"mean\"})\n",
    "ax, fig = plt.subplots(figsize = (15,7))\n",
    "X = title_corr['studio']\n",
    "y = title_corr[\"corr\"]\n",
    "plt.scatter(X,y)\n",
    "plt.title(\"Correlation vs Studio\")\n",
    "plt.ylabel(\"correlation\")\n",
    "movies = title_corr.index\n",
    "for i, txt in enumerate(movies):\n",
    "    plt.annotate(txt, (X[i], y[i]))"
   ]
  },
  {
   "cell_type": "markdown",
   "metadata": {
    "papermill": {
     "duration": 0.035032,
     "end_time": "2020-10-05T08:27:18.755355",
     "exception": false,
     "start_time": "2020-10-05T08:27:18.720323",
     "status": "completed"
    },
    "tags": []
   },
   "source": [
    "# Correlation for Weeks into Release and Gross Sales"
   ]
  },
  {
   "cell_type": "markdown",
   "metadata": {
    "papermill": {
     "duration": 0.034667,
     "end_time": "2020-10-05T08:27:18.826098",
     "exception": false,
     "start_time": "2020-10-05T08:27:18.791431",
     "status": "completed"
    },
    "tags": []
   },
   "source": [
    "**Does the Correlation of log_sentiment vary with log_gross vary across week_of_release?**\n",
    "\n",
    "The data suggests a strong positive correlation between log sentiment and week_of_release. For each week_of_release. The datapoints for weeks 11, 12 and 13 may be ignored as the number of datapoints are very small"
   ]
  },
  {
   "cell_type": "code",
   "execution_count": 17,
   "metadata": {
    "execution": {
     "iopub.execute_input": "2020-10-05T08:27:18.899816Z",
     "iopub.status.busy": "2020-10-05T08:27:18.899187Z",
     "iopub.status.idle": "2020-10-05T08:27:18.997899Z",
     "shell.execute_reply": "2020-10-05T08:27:18.996904Z"
    },
    "papermill": {
     "duration": 0.136943,
     "end_time": "2020-10-05T08:27:18.998093",
     "exception": false,
     "start_time": "2020-10-05T08:27:18.861150",
     "status": "completed"
    },
    "tags": []
   },
   "outputs": [
    {
     "name": "stdout",
     "output_type": "stream",
     "text": [
      "4.0 (8, 2)\n",
      "2.0 (9, 2)\n",
      "1.0 (10, 2)\n",
      "10.0 (7, 2)\n",
      "7.0 (7, 2)\n",
      "6.0 (7, 2)\n",
      "5.0 (8, 2)\n",
      "3.0 (8, 2)\n",
      "12.0 (3, 2)\n",
      "11.0 (4, 2)\n",
      "9.0 (6, 2)\n",
      "8.0 (6, 2)\n",
      "13.0 (1, 1)\n"
     ]
    },
    {
     "name": "stderr",
     "output_type": "stream",
     "text": [
      "/opt/conda/lib/python3.7/site-packages/statsmodels/regression/linear_model.py:1620: RuntimeWarning: invalid value encountered in double_scalars\n",
      "  return np.dot(wresid, wresid) / self.df_resid\n"
     ]
    }
   ],
   "source": [
    "import statsmodels.api as sm\n",
    "\n",
    "corr2_s = {}\n",
    "corr2_t = {}\n",
    "corr2_w = {}\n",
    "coef2_sent = {}\n",
    "pval2_sent = {}\n",
    "coef2_week = {}\n",
    "pval2_week = {}\n",
    "\n",
    "for i in re_tw.weeks_into_release.unique():\n",
    "    week_df = re_tw[re_tw['weeks_into_release']==i][cols]\n",
    "    corr_sentiment = week_df.corr().iloc[1,3]\n",
    "    corr_count = week_df.corr().iloc[2,3]\n",
    "    corr_week = week_df.corr().iloc[0,3]\n",
    "    corr2_s[i] = corr_sentiment\n",
    "    corr2_t[i] = corr_count\n",
    "    corr2_w[i] = corr_week\n",
    "    X = week_df[['log_sentiment']]\n",
    "    Y = week_df['log_weekend_gross']\n",
    "    X = sm.add_constant(X)\n",
    "    print(i,X.shape)\n",
    "    model = sm.OLS(Y, X).fit()\n",
    "    #print(i,len(model.params))\n",
    "    coef2_sent[i] = model.params['log_sentiment']\n",
    "    pval2_sent[i] = model.pvalues['log_sentiment']\n"
   ]
  },
  {
   "cell_type": "code",
   "execution_count": 18,
   "metadata": {
    "execution": {
     "iopub.execute_input": "2020-10-05T08:27:19.079226Z",
     "iopub.status.busy": "2020-10-05T08:27:19.078530Z",
     "iopub.status.idle": "2020-10-05T08:27:19.090316Z",
     "shell.execute_reply": "2020-10-05T08:27:19.089719Z"
    },
    "papermill": {
     "duration": 0.055784,
     "end_time": "2020-10-05T08:27:19.090439",
     "exception": false,
     "start_time": "2020-10-05T08:27:19.034655",
     "status": "completed"
    },
    "tags": []
   },
   "outputs": [],
   "source": [
    "corr2_s2 =  pd.DataFrame.from_dict(corr2_s,orient='index',columns=['corr_week'])\n",
    "corr2_t2 =  pd.DataFrame.from_dict(corr2_t,orient='index',columns = ['count_week'])\n",
    "corr2_s2.reset_index(inplace = True)\n",
    "corr2_t2.reset_index(inplace = True)\n",
    "\n",
    "re_tw2 = re_tw.merge(corr2_s2,how = 'left',left_on = 'weeks_into_release',right_on='index')\n",
    "re_tw2 = re_tw2.merge(corr2_t2,how = 'left',left_on = 'weeks_into_release',right_on='index')"
   ]
  },
  {
   "cell_type": "markdown",
   "metadata": {
    "papermill": {
     "duration": 0.035522,
     "end_time": "2020-10-05T08:27:19.161600",
     "exception": false,
     "start_time": "2020-10-05T08:27:19.126078",
     "status": "completed"
    },
    "tags": []
   },
   "source": []
  },
  {
   "cell_type": "code",
   "execution_count": 19,
   "metadata": {
    "execution": {
     "iopub.execute_input": "2020-10-05T08:27:19.235917Z",
     "iopub.status.busy": "2020-10-05T08:27:19.235303Z",
     "iopub.status.idle": "2020-10-05T08:27:19.411239Z",
     "shell.execute_reply": "2020-10-05T08:27:19.411756Z"
    },
    "papermill": {
     "duration": 0.214524,
     "end_time": "2020-10-05T08:27:19.411896",
     "exception": false,
     "start_time": "2020-10-05T08:27:19.197372",
     "status": "completed"
    },
    "tags": []
   },
   "outputs": [
    {
     "data": {
      "text/plain": [
       "Text(0.5, 0, 'weeks_into_release')"
      ]
     },
     "execution_count": 19,
     "metadata": {},
     "output_type": "execute_result"
    },
    {
     "data": {
      "image/png": "[encoded data removed]",
      "text/plain": [
       "<Figure size 1080x504 with 1 Axes>"
      ]
     },
     "metadata": {
      "needs_background": "light"
     },
     "output_type": "display_data"
    }
   ],
   "source": [
    "import matplotlib.pyplot as plt\n",
    "\n",
    "ax, fig = plt.subplots(figsize = (15,7))\n",
    "#re_tw3.set_index(\"studio\",inplace = True)\n",
    "#re_tw3['corr'].plot(kind = 'scatter')\n",
    "\n",
    "X = re_tw2['weeks_into_release']\n",
    "y = re_tw2[\"corr_week\"]\n",
    "plt.scatter(X,y)\n",
    "plt.title(\"Correlation vs Weeks_into_release\")\n",
    "plt.ylabel(\"correlation\")\n",
    "plt.xlabel(\"weeks_into_release\")"
   ]
  },
  {
   "cell_type": "code",
   "execution_count": 20,
   "metadata": {
    "execution": {
     "iopub.execute_input": "2020-10-05T08:27:19.492022Z",
     "iopub.status.busy": "2020-10-05T08:27:19.491341Z",
     "iopub.status.idle": "2020-10-05T08:27:19.497656Z",
     "shell.execute_reply": "2020-10-05T08:27:19.498214Z"
    },
    "papermill": {
     "duration": 0.048468,
     "end_time": "2020-10-05T08:27:19.498355",
     "exception": false,
     "start_time": "2020-10-05T08:27:19.449887",
     "status": "completed"
    },
    "tags": []
   },
   "outputs": [
    {
     "data": {
      "text/plain": [
       "log_sentiment    17.548042\n",
       "dtype: float64"
      ]
     },
     "execution_count": 20,
     "metadata": {},
     "output_type": "execute_result"
    }
   ],
   "source": [
    "model.params"
   ]
  },
  {
   "cell_type": "markdown",
   "metadata": {
    "papermill": {
     "duration": 0.038186,
     "end_time": "2020-10-05T08:27:19.574785",
     "exception": false,
     "start_time": "2020-10-05T08:27:19.536599",
     "status": "completed"
    },
    "tags": []
   },
   "source": [
    "# Analysis of Titles Data"
   ]
  },
  {
   "cell_type": "code",
   "execution_count": 21,
   "metadata": {
    "execution": {
     "iopub.execute_input": "2020-10-05T08:27:19.653776Z",
     "iopub.status.busy": "2020-10-05T08:27:19.653138Z",
     "iopub.status.idle": "2020-10-05T08:27:19.672068Z",
     "shell.execute_reply": "2020-10-05T08:27:19.672575Z"
    },
    "papermill": {
     "duration": 0.060367,
     "end_time": "2020-10-05T08:27:19.672734",
     "exception": false,
     "start_time": "2020-10-05T08:27:19.612367",
     "status": "completed"
    },
    "tags": []
   },
   "outputs": [],
   "source": [
    "def parse_start_date(x):\n",
    "    if x[0]=='Jan':\n",
    "        m='01'\n",
    "    elif x[0]==\"Feb\":\n",
    "        m='02'\n",
    "    elif x[0]=='Mar':\n",
    "        m='03'\n",
    "    elif x[0]== 'Apr':\n",
    "        m='04'\n",
    "    elif x[0] == 'May':\n",
    "        m='05'\n",
    "    elif x[0]== 'Jun':\n",
    "        m='06'\n",
    "    elif x[0]== 'Jul':\n",
    "        m='07'\n",
    "    elif x[0]=='Aug':\n",
    "        m='08'\n",
    "    elif x[0]=='Sep':\n",
    "        m='09'\n",
    "    elif x=='Oct':\n",
    "        m='10'\n",
    "    elif x[0]=='Nov':\n",
    "        m='11'\n",
    "    else:\n",
    "        m ='12'\n",
    "    d1 = x[1].split(\"–\")[0]\n",
    "    d2 = x[1].split(\"–\")[1]\n",
    "    total_day = m + \"-\" + d1\n",
    "    return total_day\n",
    "\n",
    "\n",
    "def parse_end_date(x):\n",
    "    if x[0]=='Jan':\n",
    "        m='01'\n",
    "    elif x[0]==\"Feb\":\n",
    "        m='02'\n",
    "    elif x[0]=='Mar':\n",
    "        m='03'\n",
    "    elif x[0]== 'Apr':\n",
    "        m='04'\n",
    "    elif x[0] == 'May':\n",
    "        m='05'\n",
    "    elif x[0]== 'Jun':\n",
    "        m='06'\n",
    "    elif x[0]== 'Jul':\n",
    "        m='07'\n",
    "    elif x[0]=='Aug':\n",
    "        m='08'\n",
    "    elif x[0]=='Sep':\n",
    "        m='09'\n",
    "    elif x=='Oct':\n",
    "        m='10'\n",
    "    elif x[0]=='Nov':\n",
    "        m='11'\n",
    "    else:\n",
    "        m ='12'\n",
    "    d1 = x[1].split(\"–\")[0]\n",
    "    d2 = x[1].split(\"–\")[1]\n",
    "    if len(x)==3:\n",
    "        d3=x[2]\n",
    "    if len(x)==2:\n",
    "        total_day = m + \"-\" + d2\n",
    "    elif len(x)==3:\n",
    "        total_day = m + \"-\"+d3\n",
    "    return total_day\n",
    "\n",
    "\n"
   ]
  },
  {
   "cell_type": "code",
   "execution_count": 22,
   "metadata": {
    "execution": {
     "iopub.execute_input": "2020-10-05T08:27:19.759514Z",
     "iopub.status.busy": "2020-10-05T08:27:19.758680Z",
     "iopub.status.idle": "2020-10-05T08:27:19.762816Z",
     "shell.execute_reply": "2020-10-05T08:27:19.762279Z"
    },
    "papermill": {
     "duration": 0.052103,
     "end_time": "2020-10-05T08:27:19.762938",
     "exception": false,
     "start_time": "2020-10-05T08:27:19.710835",
     "status": "completed"
    },
    "tags": []
   },
   "outputs": [],
   "source": [
    "titles['Weekend Gross']  = titles['Weekend Gross'].replace('[\\$,]', '', regex=True).astype('float64')\n",
    "titles['Gross-to-Date']  = titles['Gross-to-Date'].replace('[\\$,]', '', regex=True).astype('float64')\n"
   ]
  },
  {
   "cell_type": "code",
   "execution_count": 23,
   "metadata": {
    "execution": {
     "iopub.execute_input": "2020-10-05T08:27:19.879707Z",
     "iopub.status.busy": "2020-10-05T08:27:19.853236Z",
     "iopub.status.idle": "2020-10-05T08:27:19.884236Z",
     "shell.execute_reply": "2020-10-05T08:27:19.883680Z"
    },
    "papermill": {
     "duration": 0.082664,
     "end_time": "2020-10-05T08:27:19.884356",
     "exception": false,
     "start_time": "2020-10-05T08:27:19.801692",
     "status": "completed"
    },
    "tags": []
   },
   "outputs": [],
   "source": [
    "from datetime import datetime \n",
    "import numpy as np\n",
    "titles['Date2'] = titles['Date'].apply(lambda x:x.replace(\".\",\"\").split())\n",
    "titles['Date-m-d1'] = titles['Date2'].apply(lambda x:parse_start_date(x))\n",
    "titles['Date-m-d2'] = titles['Date2'].apply(lambda x:parse_end_date(x))\n",
    "\n",
    "\n",
    "options = [(titles['Year']==2017),(titles['Year']==2018),(titles['Year']==2019)]\n",
    "outputs_start = [pd.Series(np.repeat(['2017-'],titles.shape[0]))+ titles['Date-m-d1'],\n",
    "                pd.Series(np.repeat(['2018-'],titles.shape[0]))+ titles['Date-m-d1'],\n",
    "                pd.Series(np.repeat(['2019-'],titles.shape[0]))+ titles['Date-m-d1']]\n",
    "titles['start_date'] = np.select(options, outputs_start)\n",
    "\n",
    "\n",
    "\n",
    "outputs_end = [pd.Series(np.repeat(['2017-'],titles.shape[0]))+ titles['Date-m-d2'],\n",
    "                pd.Series(np.repeat(['2018-'],titles.shape[0]))+ titles['Date-m-d2'],\n",
    "                pd.Series(np.repeat(['2019-'],titles.shape[0]))+ titles['Date-m-d2']]\n",
    "titles['start_date'] = np.select(options, outputs_start)\n",
    "titles['end_date'] = np.select(options, outputs_end)\n",
    "\n",
    "titles['start_date']  = titles['start_date'].apply(lambda x: datetime.strptime(x,'%Y-%m-%d').date())\n",
    "titles['end_date']  = titles['end_date'].apply(lambda x: datetime.strptime(x,'%Y-%m-%d').date())\n",
    "\n",
    "titles2 = titles[['Title',\n",
    "# 'Date',\n",
    " 'Year',\n",
    " 'Rank',\n",
    " 'Weekend Gross',\n",
    " 'Gross-to-Date',\n",
    " 'Week # of release',\n",
    "# 'Date2',\n",
    "# 'Date-m-d1',\n",
    "# 'Date-m-d2',\n",
    " 'start_date',\n",
    " 'end_date']]\n"
   ]
  },
  {
   "cell_type": "code",
   "execution_count": 24,
   "metadata": {
    "execution": {
     "iopub.execute_input": "2020-10-05T08:27:19.970261Z",
     "iopub.status.busy": "2020-10-05T08:27:19.969594Z",
     "iopub.status.idle": "2020-10-05T08:27:19.982716Z",
     "shell.execute_reply": "2020-10-05T08:27:19.983564Z"
    },
    "papermill": {
     "duration": 0.06025,
     "end_time": "2020-10-05T08:27:19.983786",
     "exception": false,
     "start_time": "2020-10-05T08:27:19.923536",
     "status": "completed"
    },
    "tags": []
   },
   "outputs": [
    {
     "name": "stderr",
     "output_type": "stream",
     "text": [
      "/opt/conda/lib/python3.7/site-packages/pandas/core/frame.py:4303: SettingWithCopyWarning: \n",
      "A value is trying to be set on a copy of a slice from a DataFrame\n",
      "\n",
      "See the caveats in the documentation: https://pandas.pydata.org/pandas-docs/stable/user_guide/indexing.html#returning-a-view-versus-a-copy\n",
      "  errors=errors,\n",
      "/opt/conda/lib/python3.7/site-packages/ipykernel_launcher.py:2: SettingWithCopyWarning: \n",
      "A value is trying to be set on a copy of a slice from a DataFrame.\n",
      "Try using .loc[row_indexer,col_indexer] = value instead\n",
      "\n",
      "See the caveats in the documentation: https://pandas.pydata.org/pandas-docs/stable/user_guide/indexing.html#returning-a-view-versus-a-copy\n",
      "  \n",
      "/opt/conda/lib/python3.7/site-packages/ipykernel_launcher.py:5: SettingWithCopyWarning: \n",
      "A value is trying to be set on a copy of a slice from a DataFrame.\n",
      "Try using .loc[row_indexer,col_indexer] = value instead\n",
      "\n",
      "See the caveats in the documentation: https://pandas.pydata.org/pandas-docs/stable/user_guide/indexing.html#returning-a-view-versus-a-copy\n",
      "  \"\"\"\n"
     ]
    }
   ],
   "source": [
    "titles2.rename({'Weekend Gross':'Weekend_Gross','Week # of release':'Week_of_release', 'Gross-to-Date':'Gross_to_Date','Title':'title'},inplace = True,axis = 1)\n",
    "titles2['weeks_into_release'] = titles2['start_date'].apply(lambda x:int(x.strftime(\"%V\")))\n",
    "titles2.loc[titles2[\"title\"] == 'Black Panther']\n",
    "titles2['log_gross_to_date'] = np.where(titles2['Gross_to_Date']!=0.0,\n",
    "                                            np.log(titles2['Gross_to_Date']),titles2['Gross_to_Date'])"
   ]
  },
  {
   "cell_type": "code",
   "execution_count": 25,
   "metadata": {
    "execution": {
     "iopub.execute_input": "2020-10-05T08:27:20.066593Z",
     "iopub.status.busy": "2020-10-05T08:27:20.065968Z",
     "iopub.status.idle": "2020-10-05T08:27:20.098745Z",
     "shell.execute_reply": "2020-10-05T08:27:20.099313Z"
    },
    "papermill": {
     "duration": 0.076048,
     "end_time": "2020-10-05T08:27:20.099455",
     "exception": false,
     "start_time": "2020-10-05T08:27:20.023407",
     "status": "completed"
    },
    "tags": []
   },
   "outputs": [],
   "source": [
    "from datetime import timedelta\n",
    "tw_agg2 = tw4.groupby([\"title\",\"post_date\"]).agg({\"post_content_sentiment2\":\"sum\",\"idx\":\"count\"})\n",
    "tw_agg2.rename({\"idx\":\"tweet_count\"},inplace = True, axis =1)\n",
    "tw_agg2 = tw_agg2.reset_index()\n",
    "tw_agg2.sort_values(['post_date'],ascending = True)\n",
    "tw_agg2['cum_sentiment'] = tw_agg2.groupby(['title'])['post_content_sentiment2'].apply(lambda x:x.cumsum())\n",
    "tw_agg2 = tw_agg2.reset_index()\n"
   ]
  },
  {
   "cell_type": "code",
   "execution_count": 26,
   "metadata": {
    "execution": {
     "iopub.execute_input": "2020-10-05T08:27:20.180260Z",
     "iopub.status.busy": "2020-10-05T08:27:20.179670Z",
     "iopub.status.idle": "2020-10-05T08:27:20.273167Z",
     "shell.execute_reply": "2020-10-05T08:27:20.272510Z"
    },
    "papermill": {
     "duration": 0.134814,
     "end_time": "2020-10-05T08:27:20.273277",
     "exception": false,
     "start_time": "2020-10-05T08:27:20.138463",
     "status": "completed"
    },
    "tags": []
   },
   "outputs": [
    {
     "name": "stderr",
     "output_type": "stream",
     "text": [
      "/opt/conda/lib/python3.7/site-packages/pandas/core/series.py:726: RuntimeWarning: divide by zero encountered in log\n",
      "  result = getattr(ufunc, method)(*inputs, **kwargs)\n"
     ]
    }
   ],
   "source": [
    "\n",
    "df_j = titles2.merge(tw_agg2, on= ['title'],how = 'left')\n",
    "df_j =  df_j[(df_j[\"post_date\"]>=df_j[\"start_date\"]) & ((df_j[\"post_date\"]<=df_j[\"end_date\"]))]\n",
    "df_j['log_post_content_sentiment']  = np.where(df_j['post_content_sentiment2']!=0.,\n",
    "                                               np.log(df_j['post_content_sentiment2']),\n",
    "                                              0.01)\n",
    "df_j['cum_log_sentiment']  = np.where(df_j['cum_sentiment']!=0.,\n",
    "                                               np.log(df_j['cum_sentiment']),\n",
    "                                              0.01)\n",
    "\n",
    "df_j[\"weeks_into_release\"]  = df_j[\"weeks_into_release\"].astype(float)"
   ]
  },
  {
   "cell_type": "code",
   "execution_count": 27,
   "metadata": {
    "execution": {
     "iopub.execute_input": "2020-10-05T08:27:20.366687Z",
     "iopub.status.busy": "2020-10-05T08:27:20.365716Z",
     "iopub.status.idle": "2020-10-05T08:27:20.369963Z",
     "shell.execute_reply": "2020-10-05T08:27:20.369393Z"
    },
    "papermill": {
     "duration": 0.057345,
     "end_time": "2020-10-05T08:27:20.370065",
     "exception": false,
     "start_time": "2020-10-05T08:27:20.312720",
     "status": "completed"
    },
    "tags": []
   },
   "outputs": [
    {
     "data": {
      "text/html": [
       "<div>\n",
       "<style scoped>\n",
       "    .dataframe tbody tr th:only-of-type {\n",
       "        vertical-align: middle;\n",
       "    }\n",
       "\n",
       "    .dataframe tbody tr th {\n",
       "        vertical-align: top;\n",
       "    }\n",
       "\n",
       "    .dataframe thead th {\n",
       "        text-align: right;\n",
       "    }\n",
       "</style>\n",
       "<table border=\"1\" class=\"dataframe\">\n",
       "  <thead>\n",
       "    <tr style=\"text-align: right;\">\n",
       "      <th></th>\n",
       "      <th>weeks_into_release</th>\n",
       "      <th>log_post_content_sentiment</th>\n",
       "      <th>tweet_count</th>\n",
       "      <th>log_gross_to_date</th>\n",
       "      <th>cum_log_sentiment</th>\n",
       "    </tr>\n",
       "  </thead>\n",
       "  <tbody>\n",
       "    <tr>\n",
       "      <th>weeks_into_release</th>\n",
       "      <td>1.000000</td>\n",
       "      <td>-0.960913</td>\n",
       "      <td>-0.826809</td>\n",
       "      <td>0.826389</td>\n",
       "      <td>0.796857</td>\n",
       "    </tr>\n",
       "    <tr>\n",
       "      <th>log_post_content_sentiment</th>\n",
       "      <td>-0.960913</td>\n",
       "      <td>1.000000</td>\n",
       "      <td>0.752152</td>\n",
       "      <td>-0.750089</td>\n",
       "      <td>-0.708586</td>\n",
       "    </tr>\n",
       "    <tr>\n",
       "      <th>tweet_count</th>\n",
       "      <td>-0.826809</td>\n",
       "      <td>0.752152</td>\n",
       "      <td>1.000000</td>\n",
       "      <td>-0.996127</td>\n",
       "      <td>-0.995602</td>\n",
       "    </tr>\n",
       "    <tr>\n",
       "      <th>log_gross_to_date</th>\n",
       "      <td>0.826389</td>\n",
       "      <td>-0.750089</td>\n",
       "      <td>-0.996127</td>\n",
       "      <td>1.000000</td>\n",
       "      <td>0.995311</td>\n",
       "    </tr>\n",
       "    <tr>\n",
       "      <th>cum_log_sentiment</th>\n",
       "      <td>0.796857</td>\n",
       "      <td>-0.708586</td>\n",
       "      <td>-0.995602</td>\n",
       "      <td>0.995311</td>\n",
       "      <td>1.000000</td>\n",
       "    </tr>\n",
       "  </tbody>\n",
       "</table>\n",
       "</div>"
      ],
      "text/plain": [
       "                            weeks_into_release  log_post_content_sentiment  \\\n",
       "weeks_into_release                    1.000000                   -0.960913   \n",
       "log_post_content_sentiment           -0.960913                    1.000000   \n",
       "tweet_count                          -0.826809                    0.752152   \n",
       "log_gross_to_date                     0.826389                   -0.750089   \n",
       "cum_log_sentiment                     0.796857                   -0.708586   \n",
       "\n",
       "                            tweet_count  log_gross_to_date  cum_log_sentiment  \n",
       "weeks_into_release            -0.826809           0.826389           0.796857  \n",
       "log_post_content_sentiment     0.752152          -0.750089          -0.708586  \n",
       "tweet_count                    1.000000          -0.996127          -0.995602  \n",
       "log_gross_to_date             -0.996127           1.000000           0.995311  \n",
       "cum_log_sentiment             -0.995602           0.995311           1.000000  "
      ]
     },
     "execution_count": 27,
     "metadata": {},
     "output_type": "execute_result"
    }
   ],
   "source": [
    "cols2 = ['weeks_into_release','log_post_content_sentiment','tweet_count','log_gross_to_date','cum_log_sentiment']\n",
    "title_df = df_j[df_j['title']=='Incredibles 2'][cols2]\n",
    "title_df.corr()\n"
   ]
  },
  {
   "cell_type": "markdown",
   "metadata": {
    "papermill": {
     "duration": 0.038886,
     "end_time": "2020-10-05T08:27:20.448411",
     "exception": false,
     "start_time": "2020-10-05T08:27:20.409525",
     "status": "completed"
    },
    "tags": []
   },
   "source": []
  },
  {
   "cell_type": "code",
   "execution_count": 28,
   "metadata": {
    "execution": {
     "iopub.execute_input": "2020-10-05T08:27:20.533127Z",
     "iopub.status.busy": "2020-10-05T08:27:20.532443Z",
     "iopub.status.idle": "2020-10-05T08:27:20.534992Z",
     "shell.execute_reply": "2020-10-05T08:27:20.535437Z"
    },
    "papermill": {
     "duration": 0.047349,
     "end_time": "2020-10-05T08:27:20.535569",
     "exception": false,
     "start_time": "2020-10-05T08:27:20.488220",
     "status": "completed"
    },
    "tags": []
   },
   "outputs": [
    {
     "data": {
      "text/plain": [
       "array(['Incredibles 2', 'The Greatest Showman', 'Jurassic World',\n",
       "       'Star Wars: The Last Jedi', 'Coco', 'Overlord', 'Dunkirk',\n",
       "       'The Meg'], dtype=object)"
      ]
     },
     "execution_count": 28,
     "metadata": {},
     "output_type": "execute_result"
    }
   ],
   "source": [
    "df_j[\"title\"].unique()"
   ]
  },
  {
   "cell_type": "code",
   "execution_count": 29,
   "metadata": {
    "execution": {
     "iopub.execute_input": "2020-10-05T08:27:20.619232Z",
     "iopub.status.busy": "2020-10-05T08:27:20.618586Z",
     "iopub.status.idle": "2020-10-05T08:27:20.824047Z",
     "shell.execute_reply": "2020-10-05T08:27:20.824556Z"
    },
    "papermill": {
     "duration": 0.248493,
     "end_time": "2020-10-05T08:27:20.824692",
     "exception": false,
     "start_time": "2020-10-05T08:27:20.576199",
     "status": "completed"
    },
    "tags": []
   },
   "outputs": [
    {
     "data": {
      "text/plain": [
       "Text(0, 0.5, 'log_weekend_sales')"
      ]
     },
     "execution_count": 29,
     "metadata": {},
     "output_type": "execute_result"
    },
    {
     "data": {
      "image/png": "[encoded data removed]",
      "text/plain": [
       "<Figure size 1080x504 with 1 Axes>"
      ]
     },
     "metadata": {
      "needs_background": "light"
     },
     "output_type": "display_data"
    }
   ],
   "source": [
    "fig, ax =plt.subplots(figsize=(15,7))\n",
    "incredibles = df_j.loc[df_j[\"title\"]==\"Incredibles 2\"]\n",
    "jurrassic = df_j.loc[df_j[\"title\"]==\"Jurassic World\"]\n",
    "df_C = pd.concat([incredibles,jurrassic])\n",
    "df_C.set_index(\"weeks_into_release\")\n",
    "df_C.groupby(['weeks_into_release','title']).mean()[['log_gross_to_date']].unstack().plot(ax=ax)\n",
    "plt.ylabel(\"log_weekend_sales\")"
   ]
  }
 ],
 "metadata": {
  "kernelspec": {
   "display_name": "Python 3",
   "language": "python",
   "name": "python3"
  },
  "language_info": {
   "codemirror_mode": {
    "name": "ipython",
    "version": 3
   },
   "file_extension": ".py",
   "mimetype": "text/x-python",
   "name": "python",
   "nbconvert_exporter": "python",
   "pygments_lexer": "ipython3",
   "version": "3.7.6"
  },
  "papermill": {
   "duration": 73.104212,
   "end_time": "2020-10-05T08:27:20.973688",
   "environment_variables": {},
   "exception": null,
   "input_path": "__notebook__.ipynb",
   "output_path": "__notebook__.ipynb",
   "parameters": {},
   "start_time": "2020-10-05T08:26:07.869476",
   "version": "2.1.0"
  }
 },
 "nbformat": 4,
 "nbformat_minor": 4
}
